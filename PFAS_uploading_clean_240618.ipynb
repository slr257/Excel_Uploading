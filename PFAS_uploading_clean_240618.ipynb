{
 "cells": [
  {
   "cell_type": "markdown",
   "id": "96ca0fae-aeb5-43dc-9ead-14a3464f89ef",
   "metadata": {},
   "source": [
    "# Upload data from Excel"
   ]
  },
  {
   "cell_type": "markdown",
   "id": "3df1c6ed-eb6f-47bd-b5a7-29262c5e0067",
   "metadata": {},
   "source": [
    "### Import enviPath packages, getpass for passwords, and pandas for data cleaning"
   ]
  },
  {
   "cell_type": "code",
   "execution_count": 102,
   "id": "be3e3a29-7fc9-4829-822d-ddd51adaf89f",
   "metadata": {},
   "outputs": [],
   "source": [
    "from enviPath_python.enviPath import *\n",
    "from enviPath_python.objects import *\n",
    "import getpass\n",
    "import pandas as pd"
   ]
  },
  {
   "cell_type": "markdown",
   "id": "c15539f4-b0e8-4450-98f4-834c105ecba2",
   "metadata": {},
   "source": [
    "### Access password-protected package"
   ]
  },
  {
   "cell_type": "code",
   "execution_count": 103,
   "id": "9f91b09c-ca3b-4880-9c8a-c184f3f3e98f",
   "metadata": {
    "tags": []
   },
   "outputs": [
    {
     "name": "stdin",
     "output_type": "stream",
     "text": [
      "Password:  ········\n"
     ]
    }
   ],
   "source": [
    "if __name__ == \"__main__\":\n",
    "    eP = enviPath('https://envipath.org')\n",
    "    username = \"slr257\"\n",
    "    eP.login(username, getpass.getpass(prompt=\"Password: \", stream=None))\n",
    "\n",
    "    pkg = Package(eP.requester, id=\"https://envipath.org/package/822cc087-5b9b-45da-8864-b1a27ff19d3e\") # Currently the upload tests package"
   ]
  },
  {
   "cell_type": "markdown",
   "id": "0770ae27-b9dd-40dd-9316-ef0fb3da9daf",
   "metadata": {},
   "source": [
    "### Read in excel data from template\n",
    "each sheet is a separate dataframe"
   ]
  },
  {
   "cell_type": "code",
   "execution_count": 104,
   "id": "4770d440-2d10-43b0-80b8-326db3d7594f",
   "metadata": {},
   "outputs": [],
   "source": [
    "folder_name = \"PFAS_excel_uploadfiles/\"\n",
    "file_name = \"PFAS_upload_template_v5.xlsx\""
   ]
  },
  {
   "cell_type": "code",
   "execution_count": 129,
   "id": "63687dfc-7a53-403f-be32-6e18f879f9fd",
   "metadata": {
    "tags": []
   },
   "outputs": [
    {
     "name": "stderr",
     "output_type": "stream",
     "text": [
      "C:\\Users\\strich\\AppData\\Local\\anaconda3\\envs\\enviPath_test_12324\\Lib\\site-packages\\openpyxl\\worksheet\\_reader.py:329: UserWarning: Data Validation extension is not supported and will be removed\n",
      "  warn(msg)\n",
      "C:\\Users\\strich\\AppData\\Local\\anaconda3\\envs\\enviPath_test_12324\\Lib\\site-packages\\openpyxl\\worksheet\\_reader.py:329: UserWarning: Data Validation extension is not supported and will be removed\n",
      "  warn(msg)\n",
      "C:\\Users\\strich\\AppData\\Local\\anaconda3\\envs\\enviPath_test_12324\\Lib\\site-packages\\openpyxl\\worksheet\\_reader.py:329: UserWarning: Data Validation extension is not supported and will be removed\n",
      "  warn(msg)\n"
     ]
    }
   ],
   "source": [
    "# read in excel data from template using pandas\n",
    "cmpds = pd.read_excel(folder_name + file_name, sheet_name = \"Compounds\")\n",
    "conn = pd.read_excel(folder_name + file_name, sheet_name = \"Connectivity\")\n",
    "scn = pd.read_excel(folder_name + file_name, sheet_name = \"Scenario\")\n",
    "kin_conf = pd.read_excel(folder_name + file_name, sheet_name = \"Kinetics_Confidence\")\n",
    "\n",
    "# Scenario_Name = \"Rhoads, K.R. et al, 2008\"\n",
    "Scenario_Name = \"test_AIobjects\"\n",
    "DOI = \"10.1021/es702866c\"\n",
    "\n",
    "# running this generates a warning because there are drop-down lists in excel from the \"data validation\" extension that do not carry over into the dataframes here"
   ]
  },
  {
   "cell_type": "markdown",
   "id": "239883e9-d40d-4de9-adb1-12e658632952",
   "metadata": {},
   "source": [
    "### Add Compounds"
   ]
  },
  {
   "cell_type": "markdown",
   "id": "8f61fd75-955a-4801-83c7-09a29fdc5d71",
   "metadata": {},
   "source": [
    "First work with the compounds data frame to upload nodes"
   ]
  },
  {
   "cell_type": "code",
   "execution_count": 130,
   "id": "e70b4c97-391e-4bef-a571-aad8092fb816",
   "metadata": {
    "tags": []
   },
   "outputs": [
    {
     "name": "stdout",
     "output_type": "stream",
     "text": [
      "Accessing compound 6:2 FTUSA with SMILES FC(F)(C(F)(F)C(F)(F)C(F)(F)C(F)(F)C(F)(F)/C=C/S(O)(=O)=O)F\n",
      "Accessing compound Ketone-6:2 FTSA with SMILES FC(F)(C(F)(F)C(F)(F)C(F)(F)C(F)(F)C(F)(F)C(CS(O)(=O)=O)=O)F\n",
      "Accessing compound OH-6:2 FTSA with SMILES FC(F)(C(F)(F)C(F)(F)C(F)(F)C(F)(F)C(F)(F)C(O)CS(O)(=O)=O)F\n",
      "Accessing compound 5:3 FTU amide with SMILES FC(F)(C(F)(F)C(F)(F)C(F)(F)C(F)(F)/C=C/C(N)=O)F\n",
      "Accessing compound 5:3 FT amide-AcA with SMILES FC(F)(C(F)(F)C(F)(F)C(F)(F)C(F)(F)CCC(NCC(O)=O)=O)F\n",
      "Accessing compound 6:2 FTUCA with SMILES C(=C(\\C(C(C(C(C(F)(F)F)(F)F)(F)F)(F)F)(F)F)/F)/C(=O)O\n",
      "Accessing compound 5:2 FTUCA with SMILES FC(F)(C(F)(F)C(F)(F)C(F)(F)/C(F)=C/C(O)=O)F\n",
      "Accessing compound 4:2 FTUCA with SMILES FC(F)(C(F)(F)C(F)(F)/C(F)=C/C(O)=O)F\n",
      "Accessing compound 6:2 FTOH with SMILES C(CO)C(C(C(C(C(C(F)(F)F)(F)F)(F)F)(F)F)(F)F)(F)F\n",
      "Accessing compound PFHpA with SMILES C(=O)(C(C(C(C(C(C(F)(F)F)(F)F)(F)F)(F)F)(F)F)(F)F)O\n",
      "Accessing compound 5:2 FT Ketone with SMILES CC(=O)C(C(C(C(C(F)(F)F)(F)F)(F)F)(F)F)(F)F\n",
      "Accessing compound 5:2 sFTOH with SMILES CC(C(C(C(C(C(F)(F)F)(F)F)(F)F)(F)F)(F)F)O\n",
      "Accessing compound PFHxA with SMILES C(=O)(C(C(C(C(C(F)(F)F)(F)F)(F)F)(F)F)(F)F)O\n",
      "Accessing compound PFPeA with SMILES C(=O)(C(C(C(C(F)(F)F)(F)F)(F)F)(F)F)O\n",
      "Accessing compound PFBA with SMILES C(=O)(C(C(C(F)(F)F)(F)F)(F)F)O\n",
      "Accessing compound 4:3 FTCA with SMILES C(CC(C(C(C(F)(F)F)(F)F)(F)F)(F)F)C(=O)O\n",
      "Accessing compound 5:3 FTCA with SMILES C(CC(C(C(C(C(F)(F)F)(F)F)(F)F)(F)F)(F)F)C(=O)O\n",
      "Accessing compound 6:2 FTCA with SMILES C(C(=O)O)C(C(C(C(C(C(F)(F)F)(F)F)(F)F)(F)F)(F)F)(F)F\n"
     ]
    }
   ],
   "source": [
    "# define parent node\n",
    "parent = cmpds.loc[cmpds['Type'] == 'Parent']\n",
    "\n",
    "# creat root node\n",
    "# pw = Pathway.create(pkg, smiles = parent.SMILES[0], name = parent.Name[0], root_node_only = True)\n",
    "pw = Pathway.create(pkg, smiles = parent.SMILES[0], name = \"test_pathway_240703\", root_node_only = True)\n",
    "\n",
    "# library with SMILES and URLs for each node\n",
    "map_smiles_to_URL = {\"SMILES\": [parent.SMILES[0]], \"URL\": [pw.get_nodes()[0].get_id()]} \n",
    "\n",
    "# related nodes\n",
    "TPs = cmpds.loc[cmpds['Type'] != 'Parent']\n",
    "\n",
    "for index in TPs.index:\n",
    "    #if Type!=\"Parent\":\n",
    "        #Create Node\n",
    "    row = TPs.loc[index]\n",
    "    n = Node.create(pw, smiles = row.SMILES, name = row.Name)\n",
    "    pw.add_node(smiles = row.SMILES, name = row.Name)\n",
    "    # print(n.get_smiles() + \" is not the same as \" + row.SMILES )\n",
    "    map_smiles_to_URL[\"SMILES\"].append(row.SMILES)\n",
    "    map_smiles_to_URL[\"URL\"].append(n.get_id())\n",
    "    print(f\"Accessing compound {row.Name} with SMILES {row.SMILES}\")\n",
    "    \n",
    "temporary_df = pd.DataFrame.from_dict(map_smiles_to_URL, orient=\"columns\")\n",
    "cmpds = cmpds.merge(temporary_df, left_on=\"SMILES\", right_on=\"SMILES\")"
   ]
  },
  {
   "cell_type": "markdown",
   "id": "acaf4f5b-d26b-4f35-9dec-bad7cd7c37d0",
   "metadata": {},
   "source": [
    "### merge kinetics dataframe with compounds dataframe using the URLs\n",
    "### create connectivity dataframe"
   ]
  },
  {
   "cell_type": "code",
   "execution_count": 131,
   "id": "6965c045-b928-4d53-9116-96e6c844f079",
   "metadata": {},
   "outputs": [
    {
     "name": "stderr",
     "output_type": "stream",
     "text": [
      "C:\\Users\\strich\\AppData\\Local\\anaconda3\\envs\\enviPath_test_12324\\Lib\\site-packages\\openpyxl\\worksheet\\_reader.py:329: UserWarning: Data Validation extension is not supported and will be removed\n",
      "  warn(msg)\n"
     ]
    }
   ],
   "source": [
    "kin_conf = kin_conf.merge(temporary_df, left_on = \"SMILES\", right_on = \"SMILES\")\n",
    "conn = pd.read_excel(folder_name + file_name, sheet_name = \"Connectivity\")"
   ]
  },
  {
   "cell_type": "markdown",
   "id": "27a114f4-437f-4079-b348-cb5e617a0b57",
   "metadata": {},
   "source": [
    "### add edges based on connectivity dataframe"
   ]
  },
  {
   "cell_type": "code",
   "execution_count": 132,
   "id": "cbf1af84-cec1-4bff-a1fb-cd0b6b8583c0",
   "metadata": {
    "tags": []
   },
   "outputs": [
    {
     "name": "stdout",
     "output_type": "stream",
     "text": [
      "C(CS(=O)(=O)O)C(C(C(C(C(C(F)(F)F)(F)F)(F)F)(F)F)(F)F)(F)F>>FC(F)(C(F)(F)C(F)(F)C(F)(F)C(F)(F)C(F)(F)/C=C/S(O)(=O)=O)F\n",
      "C(CS(=O)(=O)O)C(C(C(C(C(C(F)(F)F)(F)F)(F)F)(F)F)(F)F)(F)F>>FC(F)(C(F)(F)C(F)(F)C(F)(F)C(F)(F)C(F)(F)C(O)CS(O)(=O)=O)F\n",
      "C(CS(=O)(=O)O)C(C(C(C(C(C(F)(F)F)(F)F)(F)F)(F)F)(F)F)(F)F>>C(CO)C(C(C(C(C(C(F)(F)F)(F)F)(F)F)(F)F)(F)F)(F)F\n",
      "FC(F)(C(F)(F)C(F)(F)C(F)(F)C(F)(F)C(F)(F)/C=C/S(O)(=O)=O)F>>FC(F)(C(F)(F)C(F)(F)C(F)(F)C(F)(F)C(F)(F)C(CS(O)(=O)=O)=O)F\n",
      "FC(F)(C(F)(F)C(F)(F)C(F)(F)C(F)(F)C(F)(F)C(O)CS(O)(=O)=O)F>>FC(F)(C(F)(F)C(F)(F)C(F)(F)C(F)(F)C(F)(F)C(CS(O)(=O)=O)=O)F\n",
      "FC(F)(C(F)(F)C(F)(F)C(F)(F)C(F)(F)C(F)(F)C(CS(O)(=O)=O)=O)F>>C(=O)(C(C(C(C(C(C(F)(F)F)(F)F)(F)F)(F)F)(F)F)(F)F)O\n",
      "C(CO)C(C(C(C(C(C(F)(F)F)(F)F)(F)F)(F)F)(F)F)(F)F>>C(C(=O)O)C(C(C(C(C(C(F)(F)F)(F)F)(F)F)(F)F)(F)F)(F)F\n",
      "C(C(=O)O)C(C(C(C(C(C(F)(F)F)(F)F)(F)F)(F)F)(F)F)(F)F>>C(=C(\\C(C(C(C(C(F)(F)F)(F)F)(F)F)(F)F)(F)F)/F)/C(=O)O\n",
      "C(=C(\\C(C(C(C(C(F)(F)F)(F)F)(F)F)(F)F)(F)F)/F)/C(=O)O>>CC(=O)C(C(C(C(C(F)(F)F)(F)F)(F)F)(F)F)(F)F\n",
      "C(=C(\\C(C(C(C(C(F)(F)F)(F)F)(F)F)(F)F)(F)F)/F)/C(=O)O>>FC(F)(C(F)(F)C(F)(F)C(F)(F)C(F)(F)/C=C/C(N)=O)F\n",
      "C(=C(\\C(C(C(C(C(F)(F)F)(F)F)(F)F)(F)F)(F)F)/F)/C(=O)O>>C(CC(C(C(C(C(F)(F)F)(F)F)(F)F)(F)F)(F)F)C(=O)O\n",
      "C(CC(C(C(C(C(F)(F)F)(F)F)(F)F)(F)F)(F)F)C(=O)O>>FC(F)(C(F)(F)C(F)(F)C(F)(F)C(F)(F)CCC(NCC(O)=O)=O)F\n",
      "C(CC(C(C(C(C(F)(F)F)(F)F)(F)F)(F)F)(F)F)C(=O)O>>FC(F)(C(F)(F)C(F)(F)C(F)(F)/C(F)=C/C(O)=O)F\n",
      "FC(F)(C(F)(F)C(F)(F)C(F)(F)/C(F)=C/C(O)=O)F>>C(=O)(C(C(C(C(F)(F)F)(F)F)(F)F)(F)F)O\n",
      "CC(=O)C(C(C(C(C(F)(F)F)(F)F)(F)F)(F)F)(F)F>>CC(C(C(C(C(C(F)(F)F)(F)F)(F)F)(F)F)(F)F)O\n",
      "CC(C(C(C(C(C(F)(F)F)(F)F)(F)F)(F)F)(F)F)O>>C(=O)(C(C(C(C(F)(F)F)(F)F)(F)F)(F)F)O\n",
      "CC(C(C(C(C(C(F)(F)F)(F)F)(F)F)(F)F)(F)F)O>>C(=O)(C(C(C(C(C(F)(F)F)(F)F)(F)F)(F)F)(F)F)O\n",
      "FC(F)(C(F)(F)C(F)(F)C(F)(F)/C(F)=C/C(O)=O)F>>C(=O)(C(C(C(F)(F)F)(F)F)(F)F)O\n",
      "FC(F)(C(F)(F)C(F)(F)C(F)(F)/C(F)=C/C(O)=O)F>>C(CC(C(C(C(F)(F)F)(F)F)(F)F)(F)F)C(=O)O\n",
      "FC(F)(C(F)(F)C(F)(F)C(F)(F)/C(F)=C/C(O)=O)F>>FC(F)(C(F)(F)C(F)(F)/C(F)=C/C(O)=O)F\n"
     ]
    }
   ],
   "source": [
    "# now to add connectivity using edge info\n",
    "for index in conn.index:\n",
    "    #if Type!=\"Parent\":\n",
    "        #Create Node\n",
    "    row = conn.loc[index]\n",
    "    #pw.add_node(smiles = row.SMILES, name = row.Name)\n",
    "    #print(f\"Reactant smiles {row.Reactant_SMILES} with product smiles {row.Product_SMILES}\")\n",
    "    edge = row.Reactant_SMILES + '>>' + row.Product_SMILES\n",
    "\n",
    "    # boolean value to add multistep attribute\n",
    "    if pd.isnull(row.Multistep) == False:\n",
    "        multi = row.Multistep\n",
    "    else:\n",
    "        multi = False\n",
    "    print(edge)\n",
    "    pw.add_edge(smirks = edge, multistep = multi)\n",
    "# access connectivity dataframe\n",
    "\n",
    "# concatenate >> between reactants and products"
   ]
  },
  {
   "cell_type": "markdown",
   "id": "d393943c-6fa7-457e-b849-fbf5c0188317",
   "metadata": {},
   "source": [
    "### Create Main Scenario Object"
   ]
  },
  {
   "cell_type": "code",
   "execution_count": 133,
   "id": "72c0d03c-6217-4928-8334-124d04fd604a",
   "metadata": {
    "tags": []
   },
   "outputs": [],
   "source": [
    "# main scenario - aka \"base\"\n",
    "#base = scn[(scn['Environment Type'] == 'Activated Sludge')]\n",
    "base = scn"
   ]
  },
  {
   "cell_type": "markdown",
   "id": "546c92df-821e-4cc9-995a-52e5944ace46",
   "metadata": {},
   "source": [
    "### Checking Scenario Information and matching to enviPath objects"
   ]
  },
  {
   "cell_type": "code",
   "execution_count": 134,
   "id": "be5837de-dec3-4d34-9294-a7800b45fe7b",
   "metadata": {},
   "outputs": [
    {
     "data": {
      "text/plain": [
       "<module 'utils' from 'C:\\\\Users\\\\strich\\\\OneDrive - Universität Zürich UZH\\\\Documents\\\\data curation - EAWAG-PFAS package\\\\utils.py'>"
      ]
     },
     "execution_count": 134,
     "metadata": {},
     "output_type": "execute_result"
    }
   ],
   "source": [
    "# this only works with the other fils is named utils...\n",
    "import utils\n",
    "\n",
    "# need to reload package when it's updated\n",
    "from importlib import reload\n",
    "reload(utils)"
   ]
  },
  {
   "cell_type": "markdown",
   "id": "97b27602-8069-4466-a67d-c779b4138f82",
   "metadata": {},
   "source": [
    "### subset dictionary of functions to choose which functions to run to add AI objects"
   ]
  },
  {
   "cell_type": "code",
   "execution_count": 135,
   "id": "2a2fee83-b4ef-4f9d-a28f-0acff0d3f3b1",
   "metadata": {},
   "outputs": [
    {
     "name": "stdout",
     "output_type": "stream",
     "text": [
      "{'Addition of nutrients': <class 'enviPath_python.objects.NutrientsAdditionalInformation'>, 'Ammonia Uptake Rate (AUR)': <class 'enviPath_python.objects.AmmoniaUptakeRateAdditionalInformation'>, 'Biological treatment technology': <class 'enviPath_python.objects.BiologicalTreatmentTechnologyAdditionalInformation'>, 'Bioreactor': <class 'enviPath_python.objects.BioreactorAdditionalInformation'>, 'Dissolved organic carbon (DOC)': <class 'enviPath_python.objects.DissolvedOrganicCarbonAdditionalInformation'>, 'Dissolved oxygen concentration': <class 'enviPath_python.objects.DissolvedOxygenConcentrationAdditionalInformation'>, 'Final compound concentration': <class 'enviPath_python.objects.FinalCompoundConcentrationAdditionalInformation'>, 'Initial amount of sludge in bioreactor': <class 'enviPath_python.objects.OriginalSludgeAmountAdditionalInformation'>, 'Inoculum source': <class 'enviPath_python.objects.InoculumSourceAdditionalInformation'>, 'Name of Sampling Location': <class 'enviPath_python.objects.LocationAdditionalInformation'>, 'Nitrogen Content': <class 'enviPath_python.objects.NitrogenContentAdditionalInformation'>, 'Oxygen Demand': <class 'enviPath_python.objects.OxygenDemandAdditionalInformation'>, 'Oxygen uptake rate (OUR)': <class 'enviPath_python.objects.OxygenUptakeRateAdditionalInformation'>, 'pH': <class 'enviPath_python.objects.AcidityAdditionalInformation'>, 'Phosphorus Content': <class 'enviPath_python.objects.PhosphorusContentAdditionalInformation'>, 'Proposed intermediate': <class 'enviPath_python.objects.ProposedIntermediateAdditionalInformation'>, 'Purpose of WWTP': <class 'enviPath_python.objects.PurposeOfWWTPAdditionalInformation'>, 'Redox condition': <class 'enviPath_python.objects.RedoxAdditionalInformation'>, 'Sludge retention time': <class 'enviPath_python.objects.SludgeRetentionTimeAdditionalInformation'>, 'Solvent for compound addition': <class 'enviPath_python.objects.SolventForCompoundSolutionAdditionalInformation'>, 'Source of liquid matrix': <class 'enviPath_python.objects.SourceOfLiquidMatrixAdditionalInformation'>, 'Temperature': <class 'enviPath_python.objects.TemperatureAdditionalInformation'>, 'TSS': <class 'enviPath_python.objects.TSSAdditionInformation'>, 'Type of Aeration': <class 'enviPath_python.objects.TypeOfAerationAdditionalInformation'>, 'Type of compound addition': <class 'enviPath_python.objects.TypeOfAdditionAdditionalInformation'>, 'Volatile suspended solids concentration (VSS)': <class 'enviPath_python.objects.VolatileTSSAdditionalInformation'>}\n"
     ]
    }
   ],
   "source": [
    "subset_dict = {k: utils.dict_ai[k] for k in base[\"Parameter\"]}\n",
    "print(subset_dict)"
   ]
  },
  {
   "cell_type": "code",
   "execution_count": 136,
   "id": "f6bef2fb-3403-46cf-8fc7-b879dc8d1351",
   "metadata": {},
   "outputs": [],
   "source": [
    "# This function is really nice!!\n",
    "# this should only run the add function if the variable k is in the function dictionary\n",
    "additional_info_list = []\n",
    "for k in subset_dict.keys():\n",
    "    # print(k)\n",
    "    # if the key (k) is in the dictionary, run the function to add the AI object\n",
    "    if k in utils.dict_fun:\n",
    "        utils.dict_fun[k](base, additional_info_list)\n",
    "        # print(additional_info_list)\n",
    "    else:\n",
    "        pass"
   ]
  },
  {
   "cell_type": "markdown",
   "id": "5c34cb0f-23ff-4360-b6f5-0732defcaf9f",
   "metadata": {},
   "source": [
    "### Create a scenario object in enviPath"
   ]
  },
  {
   "cell_type": "code",
   "execution_count": 137,
   "id": "207ed00d-e04d-4461-86d8-3f9644f191c6",
   "metadata": {},
   "outputs": [],
   "source": [
    "main_scenario = Scenario.create(pkg, name = Scenario_Name, description = \"Reference:\" + DOI ,additional_information=additional_info_list)"
   ]
  },
  {
   "cell_type": "code",
   "execution_count": 138,
   "id": "2e65861d-26d3-472e-a5ac-e1ba6132b80a",
   "metadata": {},
   "outputs": [],
   "source": [
    "# add scenario to pathway\n",
    "pw.add_scenario(main_scenario)"
   ]
  },
  {
   "cell_type": "code",
   "execution_count": 139,
   "id": "10de244d-cc2c-4a04-9ae0-a9b73ac2a979",
   "metadata": {},
   "outputs": [
    {
     "data": {
      "text/plain": [
       "[Node: PFBA (https://envipath.org/package/822cc087-5b9b-45da-8864-b1a27ff19d3e/pathway/b625346d-e737-4cc7-9e69-67149299814b/node/f51d5879-7b70-4431-afce-898564bc3ea1),\n",
       " Node: 5:3 FT amide-AcA (https://envipath.org/package/822cc087-5b9b-45da-8864-b1a27ff19d3e/pathway/b625346d-e737-4cc7-9e69-67149299814b/node/9efb7e2d-6a7a-4635-9bc4-b8b3483d7ccd),\n",
       " Node: 6:2 FTUCA (https://envipath.org/package/822cc087-5b9b-45da-8864-b1a27ff19d3e/pathway/b625346d-e737-4cc7-9e69-67149299814b/node/08a5b3ba-c62c-4fb6-b33a-b2056db62b53),\n",
       " Node: 5:2 FTUCA (https://envipath.org/package/822cc087-5b9b-45da-8864-b1a27ff19d3e/pathway/b625346d-e737-4cc7-9e69-67149299814b/node/f52881cc-95e6-4636-ad8b-aafeca2de373),\n",
       " Node: structure 0000006 (https://envipath.org/package/822cc087-5b9b-45da-8864-b1a27ff19d3e/pathway/b625346d-e737-4cc7-9e69-67149299814b/node/14a4741c-ad40-4e2a-a2b3-5eae856517e8),\n",
       " Node: PFPeA (https://envipath.org/package/822cc087-5b9b-45da-8864-b1a27ff19d3e/pathway/b625346d-e737-4cc7-9e69-67149299814b/node/b56fa39a-e934-4a91-8904-3348a84ffd70),\n",
       " Node: 4:3 FTCA (https://envipath.org/package/822cc087-5b9b-45da-8864-b1a27ff19d3e/pathway/b625346d-e737-4cc7-9e69-67149299814b/node/6937ab65-32ee-452c-85e6-2dedc67fc8f2),\n",
       " Node: OH-6:2 FTSA (https://envipath.org/package/822cc087-5b9b-45da-8864-b1a27ff19d3e/pathway/b625346d-e737-4cc7-9e69-67149299814b/node/493b6f1f-9438-46be-b913-3f47895985ef),\n",
       " Node: PFHxA (https://envipath.org/package/822cc087-5b9b-45da-8864-b1a27ff19d3e/pathway/b625346d-e737-4cc7-9e69-67149299814b/node/e69818cf-14bc-45ae-9860-7256bbe2369e),\n",
       " Node: 5:2 sFTOH (https://envipath.org/package/822cc087-5b9b-45da-8864-b1a27ff19d3e/pathway/b625346d-e737-4cc7-9e69-67149299814b/node/757ed834-94db-472f-96b0-c2cb09b54c8c),\n",
       " Node: 4:2 FTUCA (https://envipath.org/package/822cc087-5b9b-45da-8864-b1a27ff19d3e/pathway/b625346d-e737-4cc7-9e69-67149299814b/node/b521b979-2c65-4ea3-b989-f9c7165ffccb),\n",
       " Node: 6:2 FTUSA (https://envipath.org/package/822cc087-5b9b-45da-8864-b1a27ff19d3e/pathway/b625346d-e737-4cc7-9e69-67149299814b/node/2b92e962-6c64-4197-a8f7-5f76634b5d16),\n",
       " Node: PFHpA (https://envipath.org/package/822cc087-5b9b-45da-8864-b1a27ff19d3e/pathway/b625346d-e737-4cc7-9e69-67149299814b/node/21a850e5-384a-4fc5-9bfc-49152c0a6ad8),\n",
       " Node: Ketone-6:2 FTSA (https://envipath.org/package/822cc087-5b9b-45da-8864-b1a27ff19d3e/pathway/b625346d-e737-4cc7-9e69-67149299814b/node/d03ef28a-f166-4ceb-b66b-962ce71711e9),\n",
       " Node: 5:3 FTU amide (https://envipath.org/package/822cc087-5b9b-45da-8864-b1a27ff19d3e/pathway/b625346d-e737-4cc7-9e69-67149299814b/node/596c9083-f216-4fd3-af91-f81020ca3ea6),\n",
       " Node: 5:2 FT Ketone (https://envipath.org/package/822cc087-5b9b-45da-8864-b1a27ff19d3e/pathway/b625346d-e737-4cc7-9e69-67149299814b/node/7bba9689-c661-4953-b95b-d3b08e7c15fe),\n",
       " Node: 5:3 FTCA (https://envipath.org/package/822cc087-5b9b-45da-8864-b1a27ff19d3e/pathway/b625346d-e737-4cc7-9e69-67149299814b/node/fec4921b-2892-4128-87bf-540fab794008),\n",
       " Node: 6:2 FTOH (https://envipath.org/package/822cc087-5b9b-45da-8864-b1a27ff19d3e/pathway/b625346d-e737-4cc7-9e69-67149299814b/node/4b2553d5-6876-418b-8314-3259072dfd21),\n",
       " Node: 6:2 FTCA (https://envipath.org/package/822cc087-5b9b-45da-8864-b1a27ff19d3e/pathway/b625346d-e737-4cc7-9e69-67149299814b/node/9514a61c-acb9-4868-a310-f66de761d371)]"
      ]
     },
     "execution_count": 139,
     "metadata": {},
     "output_type": "execute_result"
    }
   ],
   "source": [
    "pw.get_nodes()"
   ]
  },
  {
   "cell_type": "markdown",
   "id": "452fecef-871b-4aa0-9730-210a87ad6ce2",
   "metadata": {},
   "source": [
    "### Create related scenarios using kinetics and confidence dataframes"
   ]
  },
  {
   "cell_type": "code",
   "execution_count": 146,
   "id": "d20e8670-f713-4370-a5bb-6c8bd962b918",
   "metadata": {},
   "outputs": [],
   "source": [
    "# This set of conditions compares the names of the compounds in the table with the names + aliases of compounds in the nodes and adds related scenarios accordingly\n",
    "node_list = kin_conf\n",
    "for index in node_list.index:\n",
    "    # print(index)\n",
    "    node_info = node_list.loc[index]\n",
    "    node = Node(eP.requester, id=node_info.URL)\n",
    "            \n",
    "    # print(node_info)\n",
    "    \n",
    "    ai_list_update = []\n",
    "\n",
    "    if (not pd.isna(node_info[\"Confidence Level_Schy\"])):\n",
    "        ai1 = ConfidenceLevelAdditionalInformation()\n",
    "        ai1.set_radioconfidence(node_info[\"Confidence Level_Schy\"])\n",
    "        ai_list_update.append(ai1)\n",
    "        \n",
    "    if (not pd.isna(node_info[[\"Model\", \"Value\"]]).any()):\n",
    "        if(node_info[\"Parameter\"] == \"Half-life\"):\n",
    "            ai2 = HalfLifeAdditionalInformation()\n",
    "            ai2.set_lower(node_info[\"Value\"])\n",
    "            ai2.set_upper(node_info[\"Value\"])\n",
    "            ai2.set_model(node_info[\"Model\"])\n",
    "            ai_list_update.append(ai2)\n",
    "        \n",
    "    if (not pd.isna(node_info[[\"Model\", \"Corrected\", \"Comment\"]]).any()):\n",
    "        if(node_info[\"Parameter\"] == \"Rate constant\"):\n",
    "            ai3 = RateConstantAdditionalInformation()\n",
    "            ai3.set_rateconstantlower(node_info[\"Value\"])\n",
    "            ai3.set_rateconstantupper(node_info[\"Value\"])\n",
    "            ai3.set_rateconstantorder(node_info[\"Model\"])\n",
    "            ai3.set_rateconstantcorrected(node_info[\"Corrected\"])\n",
    "            ai3.set_rateconstantcomment(node_info[\"Comment\"])\n",
    "            ai_list_update.append(ai3)\n",
    "\n",
    "\n",
    "    if (not len(ai_list_update) == 0):\n",
    "        referral_scenario = Scenario.create(pkg, referring_scenario_id=main_scenario.get_id(), additional_information=[])\n",
    "        referral_scenario.update_scenario(additional_information=ai_list_update)\n",
    "        node.add_scenario(referral_scenario)\n",
    "                "
   ]
  },
  {
   "cell_type": "markdown",
   "id": "cf46574f-ae41-4bde-acdb-27f47ae3b8d2",
   "metadata": {},
   "source": [
    "### deleting pathways"
   ]
  },
  {
   "cell_type": "code",
   "execution_count": 31,
   "id": "806e3318-378c-49de-bd82-29b269138805",
   "metadata": {},
   "outputs": [],
   "source": [
    "pws_to_delete = [\"https://envipath.org/package/822cc087-5b9b-45da-8864-b1a27ff19d3e/pathway/4a86eddb-e3ed-4b1b-ae88-80b95a70af26\",\n",
    "                \"https://envipath.org/package/822cc087-5b9b-45da-8864-b1a27ff19d3e/pathway/92a66fe7-dadd-4b83-82f4-6f1f1a687d3a\",\n",
    "                \"https://envipath.org/package/822cc087-5b9b-45da-8864-b1a27ff19d3e/pathway/97ecec79-2803-4e8b-a9dc-47685394c85f\"]\n"
   ]
  },
  {
   "cell_type": "code",
   "execution_count": 64,
   "id": "0ad1221d-0563-4822-87de-960e9142436e",
   "metadata": {},
   "outputs": [],
   "source": [
    "pws_to_delete =[\"https://envipath.org/package/822cc087-5b9b-45da-8864-b1a27ff19d3e/pathway/1e683118-362a-40e7-ad3e-f36b86d47803\"]"
   ]
  },
  {
   "cell_type": "code",
   "execution_count": 65,
   "id": "f4f24bd2-b701-4a75-b15f-dfb9dd11f86e",
   "metadata": {},
   "outputs": [],
   "source": [
    "for pw_URL in pws_to_delete:\n",
    "    pw = Pathway(eP.requester, id=pw_URL)\n",
    "    pw.delete()\n",
    "\n",
    "# pw.delete()"
   ]
  },
  {
   "cell_type": "markdown",
   "id": "facab05e-dee9-4b74-8f5b-05e5e279f4b4",
   "metadata": {},
   "source": [
    "### deleting scenarios"
   ]
  },
  {
   "cell_type": "code",
   "execution_count": 41,
   "id": "3800873b-ae0a-4b5f-89b1-19d5efc2b3af",
   "metadata": {},
   "outputs": [],
   "source": [
    "scns_to_delete = [\"https://envipath.org/package/822cc087-5b9b-45da-8864-b1a27ff19d3e/scenario/4d575c5c-d1d3-463f-a303-c08f7ae13d6f\",\n",
    "                 \"https://envipath.org/package/822cc087-5b9b-45da-8864-b1a27ff19d3e/scenario/783e33ed-0a7b-4fc4-bf48-7a37fe62c4c3\",\n",
    "                \"https://envipath.org/package/822cc087-5b9b-45da-8864-b1a27ff19d3e/scenario/2149fd26-a24c-4c14-ba6a-f0085a2a60f6\",\n",
    "                 \"https://envipath.org/package/822cc087-5b9b-45da-8864-b1a27ff19d3e/scenario/1d169ee3-1aa1-4435-82cb-86ea8939aa9c\",\n",
    "                 \"https://envipath.org/package/822cc087-5b9b-45da-8864-b1a27ff19d3e/scenario/afbe93d8-23e8-426f-a352-fb60a1a2a604\",\n",
    "                 \"https://envipath.org/package/822cc087-5b9b-45da-8864-b1a27ff19d3e/scenario/ed4859e8-b65e-4c6f-93b1-863a415722bd\",\n",
    "                 \"https://envipath.org/package/822cc087-5b9b-45da-8864-b1a27ff19d3e/scenario/8f098770-2d77-4d27-accc-3773ac2732d2\",\n",
    "                 \"https://envipath.org/package/822cc087-5b9b-45da-8864-b1a27ff19d3e/scenario/2ff0a0c0-cd56-4539-8f86-410674beb20a\",\n",
    "                 \"https://envipath.org/package/822cc087-5b9b-45da-8864-b1a27ff19d3e/scenario/3381330e-a56a-40be-a2af-966641ba0013\"]"
   ]
  },
  {
   "cell_type": "code",
   "execution_count": 20,
   "id": "70a26f00-b9a9-409a-88d1-f827763a3407",
   "metadata": {},
   "outputs": [],
   "source": [
    "scns_to_delete = [\"https://envipath.org/package/822cc087-5b9b-45da-8864-b1a27ff19d3e/scenario/cfa0edef-2e16-4b88-a596-5364c284af99\"]"
   ]
  },
  {
   "cell_type": "code",
   "execution_count": 42,
   "id": "e47f515f-918e-4a2a-868d-64829a192537",
   "metadata": {},
   "outputs": [],
   "source": [
    "for scn_URL in scns_to_delete:\n",
    "    scn = Scenario(eP.requester, id=scn_URL)\n",
    "    scn.delete()"
   ]
  }
 ],
 "metadata": {
  "kernelspec": {
   "display_name": "Python 3 (ipykernel)",
   "language": "python",
   "name": "python3"
  },
  "language_info": {
   "codemirror_mode": {
    "name": "ipython",
    "version": 3
   },
   "file_extension": ".py",
   "mimetype": "text/x-python",
   "name": "python",
   "nbconvert_exporter": "python",
   "pygments_lexer": "ipython3",
   "version": "3.11.8"
  }
 },
 "nbformat": 4,
 "nbformat_minor": 5
}
